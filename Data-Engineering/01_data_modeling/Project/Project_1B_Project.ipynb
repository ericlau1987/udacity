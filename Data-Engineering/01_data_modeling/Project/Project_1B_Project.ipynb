{
 "cells": [
  {
   "cell_type": "markdown",
   "metadata": {},
   "source": [
    "# Part I. ETL Pipeline for Pre-Processing the Files"
   ]
  },
  {
   "cell_type": "markdown",
   "metadata": {},
   "source": [
    "## PLEASE RUN THE FOLLOWING CODE FOR PRE-PROCESSING THE FILES"
   ]
  },
  {
   "cell_type": "markdown",
   "metadata": {},
   "source": [
    "#### Import Python packages "
   ]
  },
  {
   "cell_type": "code",
   "execution_count": 2,
   "metadata": {},
   "outputs": [],
   "source": [
    "# Import Python packages \n",
    "import pandas as pd\n",
    "import cassandra\n",
    "import re\n",
    "import os\n",
    "import glob\n",
    "import numpy as np\n",
    "import json\n",
    "import csv"
   ]
  },
  {
   "cell_type": "markdown",
   "metadata": {},
   "source": [
    "#### Creating list of filepaths to process original event csv data files"
   ]
  },
  {
   "cell_type": "code",
   "execution_count": 3,
   "metadata": {},
   "outputs": [
    {
     "name": "stdout",
     "output_type": "stream",
     "text": [
      "/data-engineering/01_data_modeling/Project\n"
     ]
    }
   ],
   "source": [
    "# checking your current working directory\n",
    "print(os.getcwd())\n",
    "\n",
    "# Get your current folder and subfolder event data\n",
    "filepath = os.getcwd() + '/event_data'\n",
    "\n",
    "# Create a for loop to create a list of files and collect each filepath\n",
    "for root, dirs, files in os.walk(filepath):\n",
    "    \n",
    "# join the file path and roots with the subdirectories using glob\n",
    "    file_path_list = glob.glob(os.path.join(root,'*'))\n",
    "    #print(file_path_list)"
   ]
  },
  {
   "cell_type": "markdown",
   "metadata": {},
   "source": [
    "#### Processing the files to create the data file csv that will be used for Apache Casssandra tables"
   ]
  },
  {
   "cell_type": "code",
   "execution_count": 4,
   "metadata": {},
   "outputs": [],
   "source": [
    "# initiating an empty list of rows that will be generated from each file\n",
    "full_data_rows_list = [] \n",
    "    \n",
    "# for every filepath in the file path list \n",
    "for f in file_path_list:\n",
    "\n",
    "# reading csv file \n",
    "    with open(f, 'r', encoding = 'utf8', newline='') as csvfile: \n",
    "        # creating a csv reader object \n",
    "        csvreader = csv.reader(csvfile) \n",
    "        next(csvreader)\n",
    "        \n",
    " # extracting each data row one by one and append it        \n",
    "        for line in csvreader:\n",
    "            #print(line)\n",
    "            full_data_rows_list.append(line) \n",
    "            \n",
    "# uncomment the code below if you would like to get total number of rows \n",
    "#print(len(full_data_rows_list))\n",
    "# uncomment the code below if you would like to check to see what the list of event data rows will look like\n",
    "#print(full_data_rows_list)\n",
    "\n",
    "# creating a smaller event data csv file called event_datafile_full csv that will be used to insert data into the \\\n",
    "# Apache Cassandra tables\n",
    "csv.register_dialect('myDialect', quoting=csv.QUOTE_ALL, skipinitialspace=True)\n",
    "\n",
    "with open('event_datafile_new.csv', 'w', encoding = 'utf8', newline='') as f:\n",
    "    writer = csv.writer(f, dialect='myDialect')\n",
    "    writer.writerow(['artist','firstName','gender','itemInSession','lastName','length',\\\n",
    "                'level','location','sessionId','song','userId'])\n",
    "    for row in full_data_rows_list:\n",
    "        if (row[0] == ''):\n",
    "            continue\n",
    "        writer.writerow((row[0], row[2], row[3], row[4], row[5], row[6], row[7], row[8], row[12], row[13], row[16]))\n"
   ]
  },
  {
   "cell_type": "code",
   "execution_count": 5,
   "metadata": {},
   "outputs": [
    {
     "name": "stdout",
     "output_type": "stream",
     "text": [
      "6821\n"
     ]
    }
   ],
   "source": [
    "# check the number of rows in your csv file\n",
    "with open('event_datafile_new.csv', 'r', encoding = 'utf8') as f:\n",
    "    print(sum(1 for line in f))"
   ]
  },
  {
   "cell_type": "code",
   "execution_count": 8,
   "metadata": {},
   "outputs": [],
   "source": [
    "data = pd.read_csv('event_datafile_new.csv')"
   ]
  },
  {
   "cell_type": "markdown",
   "metadata": {},
   "source": [
    "# Part II. Complete the Apache Cassandra coding portion of your project. \n",
    "\n",
    "## Now you are ready to work with the CSV file titled <font color=red>event_datafile_new.csv</font>, located within the Workspace directory.  The event_datafile_new.csv contains the following columns: \n",
    "- artist \n",
    "- firstName of user\n",
    "- gender of user\n",
    "- item number in session\n",
    "- last name of user\n",
    "- length of the song\n",
    "- level (paid or free song)\n",
    "- location of the user\n",
    "- sessionId\n",
    "- song title\n",
    "- userId\n",
    "\n",
    "The image below is a screenshot of what the denormalized data should appear like in the <font color=red>**event_datafile_new.csv**</font> after the code above is run:<br>\n",
    "\n",
    "<img src=\"images/image_event_datafile_new.jpg\">"
   ]
  },
  {
   "cell_type": "markdown",
   "metadata": {},
   "source": [
    "##### class to facilitate the project\n",
    "* initialise the connection\n",
    "* create keyspace and table\n",
    "* drop table\n",
    "* set keyspace\n",
    "* insert cassandra table from dataframe\n",
    "* query to output result as dataframe\n",
    "* close connection"
   ]
  },
  {
   "cell_type": "code",
   "execution_count": 51,
   "metadata": {},
   "outputs": [],
   "source": [
    "class CassandraDataframe:\n",
    "    def __init__(self, df: pd.DataFrame):\n",
    "        self.df = df \n",
    "        self.columns = self.df.columns\n",
    "        self.dtypes = self.df.dtypes\n",
    "        self.cluster = None \n",
    "        self.session = None\n",
    "        # self.__connect_cassandra()\n",
    "\n",
    "    def connect_cassandra(self):\n",
    "        from cassandra.cluster import Cluster\n",
    "        try: \n",
    "            self.cluster = Cluster(['cassandra-seed'], port=9042) #If you have a locally installed Apache Cassandra instance\n",
    "            self.session = self.cluster.connect()\n",
    "        except Exception as e:\n",
    "            print(e)\n",
    "\n",
    "    def create_cassandra_keyspace(self, keyspace:str):\n",
    "        # TO-DO: Create a Keyspace \n",
    "        try:\n",
    "            query = f\"CREATE KEYSPACE IF NOT EXISTS {keyspace} \"\n",
    "            query += \"\"\"WITH REPLICATION = \n",
    "            { 'class' : 'SimpleStrategy', 'replication_factor' : 3 }\"\"\"\n",
    "            self.session.execute(query)\n",
    "\n",
    "        except Exception as e:\n",
    "            print(e)\n",
    "\n",
    "        # print(query)\n",
    "    \n",
    "    def set_cassandra_keysapce(self, keyspace):\n",
    "        # TO-DO: Set KEYSPACE to the keyspace specified above\n",
    "        try:\n",
    "            self.session.set_keyspace('events')\n",
    "        except Exception as e:\n",
    "            print(e)\n",
    "\n",
    "    def drop_cassandra_table(self, table_name:str):\n",
    "        query = f\"DROP TABLE IF EXISTS {table_name}\"\n",
    "        try:\n",
    "            self.session.execute(query)\n",
    "        except Exception as e:\n",
    "            print(e)\n",
    "\n",
    "    def __get_df_column_name(self):\n",
    "        return (', ').join(self.df.columns)\n",
    "\n",
    "    def __set_column_type(self, partition_key:list, cluster_key:list):\n",
    "        res = []\n",
    "        for col, Dtype in zip(self.df.dtypes.index, self.df.dtypes.values):\n",
    "\n",
    "            Dtype_mapping = {\n",
    "                'object': 'text',\n",
    "                'float64': 'float',\n",
    "                'int64': 'int'\n",
    "            }\n",
    "            data_type = Dtype_mapping[str(Dtype)]\n",
    "            res.append(f'{col} {data_type}')\n",
    "        if partition_key:\n",
    "            res.append(f\"PRIMARY KEY (({(', ').join(partition_key)}), {(', ').join(cluster_key)})\")\n",
    "        return (', ').join(res)\n",
    "\n",
    "    def create_cassandra_table(self, table_name:str, partition_key:list, cluster_key:list, drop_table_first:bool=False):\n",
    "        if drop_table_first:\n",
    "           self. drop_cassandra_table(table_name)\n",
    "        query = f\"CREATE TABLE IF NOT EXISTS {table_name} \"\n",
    "        query = query + f\"({self.__set_column_type(partition_key, cluster_key)})\"\n",
    "        try:\n",
    "            self.session.execute(query)\n",
    "        except Exception as e:\n",
    "            print(e)\n",
    "        \n",
    "\n",
    "    def insert_df_2_cassandra_table(self, table_name):\n",
    "        columns = self.__get_df_column_name()\n",
    "        for key, row in self.df.iterrows():\n",
    "            query = f\"insert into {table_name} ({columns})\"\n",
    "            insert_values_query = f\" VALUES ({(', ').join(['%s']*len(self.df.columns))})\"\n",
    "            query = query + insert_values_query\n",
    "            res =[]\n",
    "            for key, value in enumerate(row):\n",
    "                if data[data.columns[key]].dtype == np.dtype('O'):\n",
    "                    res.append(value)\n",
    "                elif data[data.columns[key]].dtype == np.dtype('float64'):\n",
    "                    res.append(float(value))\n",
    "                elif data[data.columns[key]].dtype == np.dtype('int64'):\n",
    "                    res.append(int(value))\n",
    "                else:\n",
    "                    res.append(value)\n",
    "            self.session.execute(query, res)\n",
    "            \n",
    "            \n",
    "    \n",
    "    def cassandra_query_2_df(self, query):\n",
    "        from cassandra.query import dict_factory\n",
    "        try:\n",
    "            self.session.row_factory = dict_factory\n",
    "            rows = self.session.execute(query)\n",
    "        except Exception as e:\n",
    "            print(e)\n",
    "\n",
    "        res = {}\n",
    "        if rows:\n",
    "            for key in rows.one().keys():\n",
    "                res[key] = []\n",
    "\n",
    "        for row in rows:\n",
    "            for key, value in row.items():\n",
    "                res[key].append(value)\n",
    "\n",
    "        return pd.DataFrame.from_dict(res)\n",
    "        # return res\n",
    "\n",
    "    def close_connection(self):\n",
    "        self.session.shutdown()\n",
    "        self.cluster.shutdown()"
   ]
  },
  {
   "cell_type": "markdown",
   "metadata": {},
   "source": [
    "## Begin writing your Apache Cassandra code in the cells below"
   ]
  },
  {
   "cell_type": "markdown",
   "metadata": {},
   "source": [
    "#### Initialise the class CassandraDataframe"
   ]
  },
  {
   "cell_type": "code",
   "execution_count": 52,
   "metadata": {},
   "outputs": [],
   "source": [
    "cassandra_df = CassandraDataframe(data)"
   ]
  },
  {
   "cell_type": "markdown",
   "metadata": {},
   "source": [
    "#### Creating a Cluster & Create Keyspace"
   ]
  },
  {
   "cell_type": "code",
   "execution_count": 53,
   "metadata": {},
   "outputs": [],
   "source": [
    "cassandra_df.connect_cassandra()"
   ]
  },
  {
   "cell_type": "markdown",
   "metadata": {},
   "source": [
    "#### Create Keyspace"
   ]
  },
  {
   "cell_type": "code",
   "execution_count": 54,
   "metadata": {},
   "outputs": [],
   "source": [
    "cassandra_df.create_cassandra_keyspace('music')"
   ]
  },
  {
   "cell_type": "markdown",
   "metadata": {},
   "source": [
    "#### Set Keyspace"
   ]
  },
  {
   "cell_type": "code",
   "execution_count": 55,
   "metadata": {},
   "outputs": [],
   "source": [
    "cassandra_df.set_cassandra_keysapce('music')"
   ]
  },
  {
   "cell_type": "markdown",
   "metadata": {},
   "source": [
    "### Now we need to create tables to run the following queries. Remember, with Apache Cassandra you model the database tables on the queries you want to run."
   ]
  },
  {
   "cell_type": "markdown",
   "metadata": {},
   "source": [
    "## Create queries to ask the following three questions of the data\n",
    "\n",
    "### 1. Give me the artist, song title and song's length in the music app history that was heard during  sessionId = 338, and itemInSession  = 4\n",
    "\n",
    "\n",
    "### 2. Give me only the following: name of artist, song (sorted by itemInSession) and user (first and last name) for userid = 10, sessionid = 182\n",
    "    \n",
    "\n",
    "### 3. Give me every user name (first and last) in my music app history who listened to the song 'All Hands Against His Own'\n",
    "\n",
    "\n"
   ]
  },
  {
   "cell_type": "markdown",
   "metadata": {},
   "source": []
  },
  {
   "cell_type": "code",
   "execution_count": 56,
   "metadata": {},
   "outputs": [],
   "source": [
    "# primary key is session id and itemInSession as the 1st query need sessionId and itemInSession as filters\n",
    "cassandra_df.create_cassandra_table('song_details', partition_key=['sessionId', 'itemInSession'], cluster_key=['userId'], drop_table_first=True)\n",
    "cassandra_df.insert_df_2_cassandra_table('song_details')"
   ]
  },
  {
   "cell_type": "markdown",
   "metadata": {},
   "source": [
    "#### Do a SELECT to verify that the data have been inserted into each table"
   ]
  },
  {
   "cell_type": "code",
   "execution_count": 57,
   "metadata": {
    "scrolled": true
   },
   "outputs": [
    {
     "data": {
      "text/html": [
       "<div>\n",
       "<style scoped>\n",
       "    .dataframe tbody tr th:only-of-type {\n",
       "        vertical-align: middle;\n",
       "    }\n",
       "\n",
       "    .dataframe tbody tr th {\n",
       "        vertical-align: top;\n",
       "    }\n",
       "\n",
       "    .dataframe thead th {\n",
       "        text-align: right;\n",
       "    }\n",
       "</style>\n",
       "<table border=\"1\" class=\"dataframe\">\n",
       "  <thead>\n",
       "    <tr style=\"text-align: right;\">\n",
       "      <th></th>\n",
       "      <th>sessionid</th>\n",
       "      <th>iteminsession</th>\n",
       "      <th>userid</th>\n",
       "      <th>artist</th>\n",
       "      <th>firstname</th>\n",
       "      <th>gender</th>\n",
       "      <th>lastname</th>\n",
       "      <th>length</th>\n",
       "      <th>level</th>\n",
       "      <th>location</th>\n",
       "      <th>song</th>\n",
       "    </tr>\n",
       "  </thead>\n",
       "  <tbody>\n",
       "    <tr>\n",
       "      <th>0</th>\n",
       "      <td>313</td>\n",
       "      <td>1</td>\n",
       "      <td>50</td>\n",
       "      <td>Los Rodriguez</td>\n",
       "      <td>Ava</td>\n",
       "      <td>F</td>\n",
       "      <td>Robinson</td>\n",
       "      <td>205.217514</td>\n",
       "      <td>free</td>\n",
       "      <td>New Haven-Milford, CT</td>\n",
       "      <td>Enganchate Conmigo</td>\n",
       "    </tr>\n",
       "    <tr>\n",
       "      <th>1</th>\n",
       "      <td>304</td>\n",
       "      <td>0</td>\n",
       "      <td>37</td>\n",
       "      <td>The Gerbils</td>\n",
       "      <td>Jordan</td>\n",
       "      <td>F</td>\n",
       "      <td>Hicks</td>\n",
       "      <td>27.010160</td>\n",
       "      <td>free</td>\n",
       "      <td>Salinas, CA</td>\n",
       "      <td>(iii)</td>\n",
       "    </tr>\n",
       "    <tr>\n",
       "      <th>2</th>\n",
       "      <td>781</td>\n",
       "      <td>17</td>\n",
       "      <td>44</td>\n",
       "      <td>De-Phazz</td>\n",
       "      <td>Aleena</td>\n",
       "      <td>F</td>\n",
       "      <td>Kirby</td>\n",
       "      <td>205.426483</td>\n",
       "      <td>paid</td>\n",
       "      <td>Waterloo-Cedar Falls, IA</td>\n",
       "      <td>Astrud Astronette</td>\n",
       "    </tr>\n",
       "    <tr>\n",
       "      <th>3</th>\n",
       "      <td>556</td>\n",
       "      <td>5</td>\n",
       "      <td>29</td>\n",
       "      <td>Tom Waits</td>\n",
       "      <td>Jacqueline</td>\n",
       "      <td>F</td>\n",
       "      <td>Lynch</td>\n",
       "      <td>197.850983</td>\n",
       "      <td>paid</td>\n",
       "      <td>Atlanta-Sandy Springs-Roswell, GA</td>\n",
       "      <td>Whistlin' Past The Graveyard</td>\n",
       "    </tr>\n",
       "    <tr>\n",
       "      <th>4</th>\n",
       "      <td>648</td>\n",
       "      <td>20</td>\n",
       "      <td>49</td>\n",
       "      <td>Jimmy Eat World</td>\n",
       "      <td>Chloe</td>\n",
       "      <td>F</td>\n",
       "      <td>Cuevas</td>\n",
       "      <td>166.007706</td>\n",
       "      <td>paid</td>\n",
       "      <td>San Francisco-Oakland-Hayward, CA</td>\n",
       "      <td>The Middle</td>\n",
       "    </tr>\n",
       "  </tbody>\n",
       "</table>\n",
       "</div>"
      ],
      "text/plain": [
       "   sessionid  iteminsession  userid           artist   firstname gender  \\\n",
       "0        313              1      50    Los Rodriguez         Ava      F   \n",
       "1        304              0      37      The Gerbils      Jordan      F   \n",
       "2        781             17      44         De-Phazz      Aleena      F   \n",
       "3        556              5      29        Tom Waits  Jacqueline      F   \n",
       "4        648             20      49  Jimmy Eat World       Chloe      F   \n",
       "\n",
       "   lastname      length level                           location  \\\n",
       "0  Robinson  205.217514  free              New Haven-Milford, CT   \n",
       "1     Hicks   27.010160  free                        Salinas, CA   \n",
       "2     Kirby  205.426483  paid           Waterloo-Cedar Falls, IA   \n",
       "3     Lynch  197.850983  paid  Atlanta-Sandy Springs-Roswell, GA   \n",
       "4    Cuevas  166.007706  paid  San Francisco-Oakland-Hayward, CA   \n",
       "\n",
       "                           song  \n",
       "0            Enganchate Conmigo  \n",
       "1                         (iii)  \n",
       "2             Astrud Astronette  \n",
       "3  Whistlin' Past The Graveyard  \n",
       "4                    The Middle  "
      ]
     },
     "execution_count": 57,
     "metadata": {},
     "output_type": "execute_result"
    }
   ],
   "source": [
    "cassandra_df.cassandra_query_2_df(query=\"select * from song_details\").head()"
   ]
  },
  {
   "cell_type": "code",
   "execution_count": 58,
   "metadata": {},
   "outputs": [
    {
     "data": {
      "text/html": [
       "<div>\n",
       "<style scoped>\n",
       "    .dataframe tbody tr th:only-of-type {\n",
       "        vertical-align: middle;\n",
       "    }\n",
       "\n",
       "    .dataframe tbody tr th {\n",
       "        vertical-align: top;\n",
       "    }\n",
       "\n",
       "    .dataframe thead th {\n",
       "        text-align: right;\n",
       "    }\n",
       "</style>\n",
       "<table border=\"1\" class=\"dataframe\">\n",
       "  <thead>\n",
       "    <tr style=\"text-align: right;\">\n",
       "      <th></th>\n",
       "      <th>artist</th>\n",
       "      <th>song</th>\n",
       "      <th>length</th>\n",
       "    </tr>\n",
       "  </thead>\n",
       "  <tbody>\n",
       "    <tr>\n",
       "      <th>0</th>\n",
       "      <td>Faithless</td>\n",
       "      <td>Music Matters (Mark Knight Dub)</td>\n",
       "      <td>495.307312</td>\n",
       "    </tr>\n",
       "  </tbody>\n",
       "</table>\n",
       "</div>"
      ],
      "text/plain": [
       "      artist                             song      length\n",
       "0  Faithless  Music Matters (Mark Knight Dub)  495.307312"
      ]
     },
     "execution_count": 58,
     "metadata": {},
     "output_type": "execute_result"
    }
   ],
   "source": [
    "cassandra_df.cassandra_query_2_df(query=\"select artist, song, length from song_details where sessionId=338 and itemInSession=4\")"
   ]
  },
  {
   "cell_type": "markdown",
   "metadata": {},
   "source": [
    "### COPY AND REPEAT THE ABOVE THREE CELLS FOR EACH OF THE THREE QUESTIONS"
   ]
  },
  {
   "cell_type": "markdown",
   "metadata": {},
   "source": [
    "##### first query"
   ]
  },
  {
   "cell_type": "markdown",
   "metadata": {},
   "source": [
    "For the query 1, we use `partition key` (`sessionId` and `itemInSession`) as composite partition key to find a set of rows. `userId` is used as `clustering key`. These two keys together can be a primary key to identify each row."
   ]
  },
  {
   "cell_type": "code",
   "execution_count": 60,
   "metadata": {},
   "outputs": [
    {
     "data": {
      "text/html": [
       "<div>\n",
       "<style scoped>\n",
       "    .dataframe tbody tr th:only-of-type {\n",
       "        vertical-align: middle;\n",
       "    }\n",
       "\n",
       "    .dataframe tbody tr th {\n",
       "        vertical-align: top;\n",
       "    }\n",
       "\n",
       "    .dataframe thead th {\n",
       "        text-align: right;\n",
       "    }\n",
       "</style>\n",
       "<table border=\"1\" class=\"dataframe\">\n",
       "  <thead>\n",
       "    <tr style=\"text-align: right;\">\n",
       "      <th></th>\n",
       "      <th>artist</th>\n",
       "      <th>song</th>\n",
       "      <th>length</th>\n",
       "    </tr>\n",
       "  </thead>\n",
       "  <tbody>\n",
       "    <tr>\n",
       "      <th>0</th>\n",
       "      <td>Faithless</td>\n",
       "      <td>Music Matters (Mark Knight Dub)</td>\n",
       "      <td>495.307312</td>\n",
       "    </tr>\n",
       "  </tbody>\n",
       "</table>\n",
       "</div>"
      ],
      "text/plain": [
       "      artist                             song      length\n",
       "0  Faithless  Music Matters (Mark Knight Dub)  495.307312"
      ]
     },
     "execution_count": 60,
     "metadata": {},
     "output_type": "execute_result"
    }
   ],
   "source": [
    "# primary key is session id and itemInSession as the 1st query need sessionId and itemInSession as filters\n",
    "cassandra_df.create_cassandra_table('song_details', partition_key=['sessionId', 'itemInSession'], cluster_key=['userId'], drop_table_first=True)\n",
    "cassandra_df.insert_df_2_cassandra_table('song_details')\n",
    "cassandra_df.cassandra_query_2_df(query=\"select artist, song, length from song_details where sessionId=338 and itemInSession=4\")"
   ]
  },
  {
   "cell_type": "markdown",
   "metadata": {},
   "source": [
    "##### second query"
   ]
  },
  {
   "cell_type": "code",
   "execution_count": 61,
   "metadata": {},
   "outputs": [
    {
     "data": {
      "text/html": [
       "<div>\n",
       "<style scoped>\n",
       "    .dataframe tbody tr th:only-of-type {\n",
       "        vertical-align: middle;\n",
       "    }\n",
       "\n",
       "    .dataframe tbody tr th {\n",
       "        vertical-align: top;\n",
       "    }\n",
       "\n",
       "    .dataframe thead th {\n",
       "        text-align: right;\n",
       "    }\n",
       "</style>\n",
       "<table border=\"1\" class=\"dataframe\">\n",
       "  <thead>\n",
       "    <tr style=\"text-align: right;\">\n",
       "      <th></th>\n",
       "      <th>artist</th>\n",
       "      <th>song</th>\n",
       "      <th>firstname</th>\n",
       "      <th>lastname</th>\n",
       "    </tr>\n",
       "  </thead>\n",
       "  <tbody>\n",
       "    <tr>\n",
       "      <th>0</th>\n",
       "      <td>Down To The Bone</td>\n",
       "      <td>Keep On Keepin' On</td>\n",
       "      <td>Sylvie</td>\n",
       "      <td>Cruz</td>\n",
       "    </tr>\n",
       "    <tr>\n",
       "      <th>1</th>\n",
       "      <td>Three Drives</td>\n",
       "      <td>Greece 2000</td>\n",
       "      <td>Sylvie</td>\n",
       "      <td>Cruz</td>\n",
       "    </tr>\n",
       "    <tr>\n",
       "      <th>2</th>\n",
       "      <td>Sebastien Tellier</td>\n",
       "      <td>Kilometer</td>\n",
       "      <td>Sylvie</td>\n",
       "      <td>Cruz</td>\n",
       "    </tr>\n",
       "    <tr>\n",
       "      <th>3</th>\n",
       "      <td>Lonnie Gordon</td>\n",
       "      <td>Catch You Baby (Steve Pitron &amp; Max Sanna Radio...</td>\n",
       "      <td>Sylvie</td>\n",
       "      <td>Cruz</td>\n",
       "    </tr>\n",
       "  </tbody>\n",
       "</table>\n",
       "</div>"
      ],
      "text/plain": [
       "              artist                                               song  \\\n",
       "0   Down To The Bone                                 Keep On Keepin' On   \n",
       "1       Three Drives                                        Greece 2000   \n",
       "2  Sebastien Tellier                                          Kilometer   \n",
       "3      Lonnie Gordon  Catch You Baby (Steve Pitron & Max Sanna Radio...   \n",
       "\n",
       "  firstname lastname  \n",
       "0    Sylvie     Cruz  \n",
       "1    Sylvie     Cruz  \n",
       "2    Sylvie     Cruz  \n",
       "3    Sylvie     Cruz  "
      ]
     },
     "execution_count": 61,
     "metadata": {},
     "output_type": "execute_result"
    }
   ],
   "source": [
    "# primary key is session id and itemInSession as the 1st query need sessionId and userid as filters\n",
    "cassandra_df.create_cassandra_table('artist_details', partition_key=['sessionId', 'userId'], cluster_key=['itemInSession'], drop_table_first=True)\n",
    "cassandra_df.insert_df_2_cassandra_table('artist_details')\n",
    "cassandra_df.cassandra_query_2_df(query=\"select artist, song, firstName, lastName from artist_details where sessionId=182 and userid=10\")"
   ]
  },
  {
   "cell_type": "markdown",
   "metadata": {},
   "source": [
    "##### third query"
   ]
  },
  {
   "cell_type": "code",
   "execution_count": 62,
   "metadata": {},
   "outputs": [
    {
     "data": {
      "text/html": [
       "<div>\n",
       "<style scoped>\n",
       "    .dataframe tbody tr th:only-of-type {\n",
       "        vertical-align: middle;\n",
       "    }\n",
       "\n",
       "    .dataframe tbody tr th {\n",
       "        vertical-align: top;\n",
       "    }\n",
       "\n",
       "    .dataframe thead th {\n",
       "        text-align: right;\n",
       "    }\n",
       "</style>\n",
       "<table border=\"1\" class=\"dataframe\">\n",
       "  <thead>\n",
       "    <tr style=\"text-align: right;\">\n",
       "      <th></th>\n",
       "      <th>artist</th>\n",
       "      <th>song</th>\n",
       "      <th>firstname</th>\n",
       "      <th>lastname</th>\n",
       "    </tr>\n",
       "  </thead>\n",
       "  <tbody>\n",
       "    <tr>\n",
       "      <th>0</th>\n",
       "      <td>The Black Keys</td>\n",
       "      <td>All Hands Against His Own</td>\n",
       "      <td>Jacqueline</td>\n",
       "      <td>Lynch</td>\n",
       "    </tr>\n",
       "    <tr>\n",
       "      <th>1</th>\n",
       "      <td>The Black Keys</td>\n",
       "      <td>All Hands Against His Own</td>\n",
       "      <td>Tegan</td>\n",
       "      <td>Levine</td>\n",
       "    </tr>\n",
       "    <tr>\n",
       "      <th>2</th>\n",
       "      <td>The Black Keys</td>\n",
       "      <td>All Hands Against His Own</td>\n",
       "      <td>Sara</td>\n",
       "      <td>Johnson</td>\n",
       "    </tr>\n",
       "  </tbody>\n",
       "</table>\n",
       "</div>"
      ],
      "text/plain": [
       "           artist                       song   firstname lastname\n",
       "0  The Black Keys  All Hands Against His Own  Jacqueline    Lynch\n",
       "1  The Black Keys  All Hands Against His Own       Tegan   Levine\n",
       "2  The Black Keys  All Hands Against His Own        Sara  Johnson"
      ]
     },
     "execution_count": 62,
     "metadata": {},
     "output_type": "execute_result"
    }
   ],
   "source": [
    "# primary key is session id and itemInSession as the 1st query need sessionId and song as filters\n",
    "cassandra_df.create_cassandra_table('user_details', partition_key=['song'], cluster_key=['userId'], drop_table_first=True)\n",
    "cassandra_df.insert_df_2_cassandra_table('user_details')\n",
    "cassandra_df.cassandra_query_2_df(query=\"select artist, song, firstName, lastName from user_details where song='All Hands Against His Own'\")"
   ]
  },
  {
   "cell_type": "markdown",
   "metadata": {},
   "source": [
    "### Drop the tables before closing out the sessions"
   ]
  },
  {
   "cell_type": "code",
   "execution_count": 63,
   "metadata": {},
   "outputs": [],
   "source": [
    "cassandra_df.drop_cassandra_table('music_app_history')"
   ]
  },
  {
   "cell_type": "markdown",
   "metadata": {},
   "source": [
    "### Close the session and cluster connection¶"
   ]
  },
  {
   "cell_type": "code",
   "execution_count": 64,
   "metadata": {},
   "outputs": [],
   "source": [
    "cassandra_df.close_connection()"
   ]
  }
 ],
 "metadata": {
  "kernelspec": {
   "display_name": "Python 3 (ipykernel)",
   "language": "python",
   "name": "python3"
  },
  "language_info": {
   "codemirror_mode": {
    "name": "ipython",
    "version": 3
   },
   "file_extension": ".py",
   "mimetype": "text/x-python",
   "name": "python",
   "nbconvert_exporter": "python",
   "pygments_lexer": "ipython3",
   "version": "3.8.18"
  }
 },
 "nbformat": 4,
 "nbformat_minor": 2
}
